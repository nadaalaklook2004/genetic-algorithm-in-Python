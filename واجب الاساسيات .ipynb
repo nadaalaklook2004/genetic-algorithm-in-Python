{
 "cells": [
  {
   "cell_type": "markdown",
   "id": "ed6b80ff",
   "metadata": {},
   "source": [
    "# Homework Assignment:\n",
    "\n",
    "Implement a genetic algorithm in Python to find the maximum value of the following mathematical function:\n",
    "\n",
    "f(x) = x^2 - 3y + 4\n",
    "\n",
    "The range of x is between -10 and 10.\n",
    "\n",
    "The genetic algorithm should include the following components:\n",
    "\n",
    "1. Initialization of the population with random values for x within the given range.\n",
    "2. Fitness function calculation for each individual in the population.\n",
    "3. Selection of individuals to be parents for the next generation using tournament selection.\n",
    "Reproduction of selected parents to generate new offspring.\n",
    "4. Mutation of some offspring with a low probability to introduce diversity into the population.\n",
    "5. Replacement of the old generation with the new generation.\n",
    "6. Termination criterion based on reaching a maximum number of generations or a satisfactory fitness value.\n"
   ]
  },
  {
   "cell_type": "markdown",
   "id": "80a3253a",
   "metadata": {},
   "source": [
    "```\n",
    "function GENETIC-ALGORITHM(population, fitness) returns an individual\n",
    "    repeat\n",
    "        weights WEIGHTED-BY(population, fitness)\n",
    "        population2 empty list\n",
    "        for i = 1 to SIZE(population) do\n",
    "            parent1, parent2 WEIGHTED-RANDOM-CHOICES(population, weights, 2)\n",
    "            child REPRODUCE(parent1, parent2)\n",
    "            if (small random probability) then child MUTATE(child)\n",
    "            add child to population2\n",
    "        population population2\n",
    "    until some individual is fit enough, or enough time has elapsed\n",
    "    return the best individual in population, according to fitness\n",
    "\n",
    "function REPRODUCE(parent1, parent2) returns an individual\n",
    "    n LENGTH(parent1)\n",
    "    c random number from 1 to n\n",
    "    return APPEND(SUBSTRING(parent1, 1, c), SUBSTRING(parent2, c+1, n))\n",
    "\n",
    "```"
   ]
  },
  {
   "cell_type": "code",
   "execution_count": 8,
   "id": "f7ad241e",
   "metadata": {},
   "outputs": [
    {
     "name": "stdout",
     "output_type": "stream",
     "text": [
      "Generation 0: Best individual = (9.980449657869013 ,103.60937537325769)\n",
      "Best individual found = (9.980449657869013, 103.60937537325769)\n"
     ]
    }
   ],
   "source": [
    "import random \n",
    "def fitness_fun(x,y):\n",
    "    return x**2 - 3*y + 4\n",
    "\n",
    "POP_SIZE = 50 #the size of the populaiton of individuals\n",
    "GENE_LENGTH = 10 \n",
    "'''The length of the binary string that represents each individual's value for x. In this case, the binary string is of length 10, which means that each individual's value for x can take on one of 2^10 = 1024 possible values.\n",
    "MUTATION_RATE: The probability that an offspring will be mutated (i.e., have one of its bits flipped) during reproduction.'''\n",
    "MUTATION_RATE = 0.1 # The probability that an offspring will be mutated (i.e., have one of its bits flipped) during reproduction.\n",
    "NUM_GENERATIONS = 100 #The maximum number of generations that the genetic algorithm will run for.\n",
    "# The minimum and maximum values that x can take on, respectively.\n",
    "X_MIN = -10\n",
    "X_MAX = 10\n",
    "\n",
    "TOURNAMENT_SIZE = 5 # The size of the tournament that is used in tournament selection. In this case, we will randomly select 5 individuals from the population and choose the one with the highest fitness to be a parent.\n",
    "\n",
    "populaiton = []\n",
    "for i in range(POP_SIZE):\n",
    "    #  Generate a random binary string of length GENE_LENGTH\n",
    "    x_bin = ''.join(random.choice('01')for j in range (GENE_LENGTH))\n",
    "    x = X_MIN + (int(x_bin,2) /(2**GENE_LENGTH -1))*(X_MAX-X_MIN)\n",
    "    populaiton.append((x,fitness_fun(x,0)))\n",
    "\n",
    "for gen in range(NUM_GENERATIONS) :\n",
    "    populaiton.sort(key=lambda ind : ind[1],reverse = True)\n",
    "    print(f'Generation {gen}: Best individual = ({populaiton[0][0]} ,{populaiton[0][1]})')\n",
    "    if populaiton[0][1] >=100 :\n",
    "        break\n",
    "    new_populaiton = []\n",
    "\n",
    "    for i in range(POP_SIZE):\n",
    "        parent1 = max(random.sample(populaiton,TOURNAMENT_SIZE),key=lambda ind : ind[1])[0]\n",
    "        parent2 = max(random.sample(populaiton,TOURNAMENT_SIZE),key=lambda ind : ind[1])[0]\n",
    "        crossover_point = random.randint(1,GENE_LENGTH-1)\n",
    "        offspring_x = parent1[:crossover_point]+parent2[crossover_point:]\n",
    "        for j in range(len(offspring_x)):\n",
    "            if random.random() < MUTATION_RATE :\n",
    "                offspring_x = offspring_x[:j] + ('1' if offspring_x[j] == 0 else '0') + offspring_x[j+1:]\n",
    "        offspring_x = X_MIN + (int(offspring_x,2)) /(2**GENE_LENGTH-1) * (X_MAX-X_MIN )\n",
    "        new_populaiton.append((offspring_x,fitness_fun(offspring_x,0)))\n",
    "    populaiton = new_populaiton\n",
    "\n",
    "populaiton.sort(key = lambda ind: ind[1],reverse = True)\n",
    "print(f'Best individual found = ({populaiton[0][0]}, {populaiton[0][1]})')"
   ]
  },
  {
   "cell_type": "code",
   "execution_count": null,
   "id": "ff461e1f",
   "metadata": {},
   "outputs": [],
   "source": []
  }
 ],
 "metadata": {
  "kernelspec": {
   "display_name": "Python 3 (ipykernel)",
   "language": "python",
   "name": "python3"
  },
  "language_info": {
   "codemirror_mode": {
    "name": "ipython",
    "version": 3
   },
   "file_extension": ".py",
   "mimetype": "text/x-python",
   "name": "python",
   "nbconvert_exporter": "python",
   "pygments_lexer": "ipython3",
   "version": "3.9.12"
  }
 },
 "nbformat": 4,
 "nbformat_minor": 5
}
